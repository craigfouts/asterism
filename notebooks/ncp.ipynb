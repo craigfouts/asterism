{
 "cells": [
  {
   "cell_type": "code",
   "execution_count": 1,
   "id": "bbf07468",
   "metadata": {},
   "outputs": [],
   "source": [
    "import matplotlib.pyplot as plt\n",
    "import numpy as np\n",
    "import sys\n",
    "import torch\n",
    "import torch.nn as nn\n",
    "import torch.nn.functional as F\n",
    "from scipy.optimize import linear_sum_assignment\n",
    "from sklearn.base import BaseEstimator, ClusterMixin, TransformerMixin\n",
    "from torch.distributions import Categorical\n",
    "from tqdm import tqdm\n",
    "\n",
    "sys.path.append('../src')\n",
    "from ncp import NCP\n",
    "from nets import MLP\n",
    "from sim import make_dataset\n",
    "from utils import map_labels, show_dataset"
   ]
  },
  {
   "cell_type": "code",
   "execution_count": 61,
   "id": "dcd586a2",
   "metadata": {},
   "outputs": [
    {
     "data": {
      "image/png": "[encoded data removed]",
      "text/plain": [
       "<Figure size 500x500 with 1 Axes>"
      ]
     },
     "metadata": {},
     "output_type": "display_data"
    }
   ],
   "source": [
    "def relable(cs):\n",
    "    cs, d, k = cs.copy(), {}, 0\n",
    "    \n",
    "    for i in range(len(cs)):\n",
    "        j = cs[i]\n",
    "\n",
    "        if j not in d:\n",
    "            d[j] = k\n",
    "            k += 1\n",
    "        \n",
    "        cs[i] = d[j]\n",
    "\n",
    "    return cs\n",
    "\n",
    "def generate(alpha=.7, N=None, N_min=5, N_max=100, no_ones=False):\n",
    "    keep = True\n",
    "\n",
    "    while keep:\n",
    "        if N is None or N == 0:\n",
    "            N = np.random.randint(N_min, N_max)\n",
    "        clusters = np.zeros(N + 2)\n",
    "        clusters[0], clusters[1], clusters[2] = 0, 1, alpha\n",
    "        index_new = 2\n",
    "\n",
    "        for n in range(N - 1):\n",
    "            p = clusters/clusters.sum()\n",
    "            z = np.argmax(np.random.multinomial(1, p))\n",
    "\n",
    "            if z < index_new:\n",
    "                clusters[z] += 1\n",
    "            else:\n",
    "                clusters[index_new] = 1\n",
    "                index_new += 1\n",
    "                clusters[index_new] = alpha\n",
    "\n",
    "        clusters[index_new] = 0\n",
    "        clusters = clusters.astype(np.int32)\n",
    "\n",
    "        if no_ones:\n",
    "            clusters = clusters[clusters != 1]\n",
    "\n",
    "        N = int(np.sum(clusters))\n",
    "        keep = N == 0\n",
    "\n",
    "    K = np.sum(clusters > 0)\n",
    "\n",
    "    return clusters, N, K\n",
    "\n",
    "class Data:\n",
    "    def __init__(self, x_dim=2, lamb=10, sigma=1, alpha=.7, N_min=5, N_max=100):\n",
    "        self.x_dim = x_dim\n",
    "        self.lamb = lamb\n",
    "        self.sigma = sigma\n",
    "        self.alpha = alpha\n",
    "        self.N_min = N_min\n",
    "        self.N_max = N_max\n",
    "\n",
    "    def generate(self, N=None, batch_size=64, return_tensor=False):\n",
    "        clusters, N, n_clusters = generate(self.alpha, N, self.N_min, self.N_max)\n",
    "        cumsum = np.cumsum(clusters)\n",
    "        data = np.empty((batch_size, N, self.x_dim))\n",
    "        cs = np.empty(N, dtype=np.int32)\n",
    "\n",
    "        for i in range(n_clusters):\n",
    "            mu = np.random.normal(0, self.lamb, size=(self.x_dim*batch_size, 1))\n",
    "            samples = np.random.normal(mu, self.sigma, size=(self.x_dim*batch_size, clusters[i + 1]))\n",
    "            samples = np.swapaxes(samples.reshape((batch_size, self.x_dim, clusters[i + 1])), 1, 2)\n",
    "            data[:, cumsum[i]:cumsum[i + 1], :] = samples\n",
    "            cs[cumsum[i]:cumsum[i + 1]] = i + 1\n",
    "\n",
    "        arr = np.arange(N)\n",
    "        np.random.shuffle(arr)\n",
    "        cs = cs[arr]\n",
    "        data = data[:, arr, :]\n",
    "        cs = relable(cs)\n",
    "        medians = np.expand_dims(np.median(data, axis=1), 1)\n",
    "        data = data - medians\n",
    "\n",
    "        if return_tensor:\n",
    "            return torch.tensor(data, dtype=torch.float32), torch.tensor(cs)\n",
    "\n",
    "        # return data, cs, clusters, n_clusters\n",
    "        return data, cs\n",
    "    \n",
    "generator = Data(x_dim=2)\n",
    "data, labels = generator.generate()\n",
    "show_dataset(data[0], labels)"
   ]
  },
  {
   "cell_type": "code",
   "execution_count": 62,
   "id": "171b0cef",
   "metadata": {},
   "outputs": [
    {
     "name": "stderr",
     "output_type": "stream",
     "text": [
      "NCP: 100%|██████████| 200/200 [02:16<00:00,  1.46it/s]\n"
     ]
    },
    {
     "data": {
      "image/png": "[encoded data removed]",
      "text/plain": [
       "<Figure size 500x500 with 1 Axes>"
      ]
     },
     "metadata": {},
     "output_type": "display_data"
    }
   ],
   "source": [
    "WC_CHANNELS = (128, 128, 128, 128, 256)\n",
    "BC_CHANNELS = (WC_CHANNELS[-1], 128, 128, 128, 128, 128, 512)\n",
    "LP_CHANNELS = (WC_CHANNELS[-1] + BC_CHANNELS[-1], 128, 128, 128, 128)\n",
    "\n",
    "model = NCP(WC_CHANNELS, BC_CHANNELS, LP_CHANNELS).fit(Data(2, N_max=25))\n",
    "show_dataset(data[0], model(torch.tensor(data, dtype=torch.float32)))"
   ]
  },
  {
   "cell_type": "code",
   "execution_count": null,
   "id": "0e4cc633",
   "metadata": {},
   "outputs": [],
   "source": []
  }
 ],
 "metadata": {
  "kernelspec": {
   "display_name": "env",
   "language": "python",
   "name": "python3"
  },
  "language_info": {
   "codemirror_mode": {
    "name": "ipython",
    "version": 3
   },
   "file_extension": ".py",
   "mimetype": "text/x-python",
   "name": "python",
   "nbconvert_exporter": "python",
   "pygments_lexer": "ipython3",
   "version": "3.9.6"
  }
 },
 "nbformat": 4,
 "nbformat_minor": 5
}
